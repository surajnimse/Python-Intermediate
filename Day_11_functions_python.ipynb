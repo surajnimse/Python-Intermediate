{
  "nbformat": 4,
  "nbformat_minor": 0,
  "metadata": {
    "colab": {
      "provenance": []
    },
    "kernelspec": {
      "name": "python3",
      "display_name": "Python 3"
    },
    "language_info": {
      "name": "python"
    }
  },
  "cells": [
    {
      "cell_type": "code",
      "execution_count": 3,
      "metadata": {
        "colab": {
          "base_uri": "https://localhost:8080/"
        },
        "id": "LynczderHEfx",
        "outputId": "341612f5-47fa-4176-cb7a-3453d0392be7"
      },
      "outputs": [
        {
          "output_type": "stream",
          "name": "stdout",
          "text": [
            "Hello World\n"
          ]
        }
      ],
      "source": [
        "print(\"Hello World\")"
      ]
    },
    {
      "cell_type": "code",
      "source": [],
      "metadata": {
        "id": "BiWBFSkcZeq6"
      },
      "execution_count": null,
      "outputs": []
    },
    {
      "cell_type": "code",
      "source": [
        "# simple function\n",
        "\n",
        "def fun():\n",
        "  print(\"Hello world\")\n",
        "  print(\"welcome\")\n",
        "\n",
        "\n",
        "print(\"before function call\")\n",
        "fun()\n",
        "print(\"after function call\")\n"
      ],
      "metadata": {
        "colab": {
          "base_uri": "https://localhost:8080/"
        },
        "id": "MBh5kn9LVoyV",
        "outputId": "c5399244-906f-4bf2-f30c-c35c031d4b7e"
      },
      "execution_count": 7,
      "outputs": [
        {
          "output_type": "stream",
          "name": "stdout",
          "text": [
            "before function call\n",
            "Hello world\n",
            "welcome\n",
            "None\n",
            "after function call\n"
          ]
        }
      ]
    },
    {
      "cell_type": "code",
      "source": [
        "# program to print the square of no\n",
        "# without arguments , without return values\n",
        "def square():\n",
        "  x = int(input(\"enetr a no\"))\n",
        "  y = x**2\n",
        "  print(\"square of\",x,\"is\",y)\n",
        "\n",
        "square()"
      ],
      "metadata": {
        "colab": {
          "base_uri": "https://localhost:8080/"
        },
        "id": "FAsNwlxOZCHV",
        "outputId": "039b1946-db69-4ea5-c866-c72c8998e867"
      },
      "execution_count": 8,
      "outputs": [
        {
          "output_type": "stream",
          "name": "stdout",
          "text": [
            "enetr a no5\n",
            "square of 5 is 25\n"
          ]
        }
      ]
    },
    {
      "cell_type": "code",
      "source": [
        " #with arguments , with return values\n",
        "\n",
        "def square(x):\n",
        "    #y = x**2\n",
        "    return x**2\n",
        "\n",
        "\n",
        "x = int(input(\"enetr a no\"))\n",
        "res = square(x)\n",
        "print(res)"
      ],
      "metadata": {
        "colab": {
          "base_uri": "https://localhost:8080/"
        },
        "id": "oUubBp9vdJIB",
        "outputId": "118c15c8-446f-409a-b108-71227645ef18"
      },
      "execution_count": 10,
      "outputs": [
        {
          "output_type": "stream",
          "name": "stdout",
          "text": [
            "enetr a no6\n",
            "36\n"
          ]
        }
      ]
    },
    {
      "cell_type": "code",
      "source": [
        "#with arguments , without return values\n",
        "def square(x):\n",
        "  y = x**2\n",
        "  print(\"square of\",x,\"is\",y)\n",
        "\n",
        "\n",
        "x = int(input(\"enetr a no\"))\n",
        "square(x)\n"
      ],
      "metadata": {
        "colab": {
          "base_uri": "https://localhost:8080/"
        },
        "id": "_ukEx8_3d04P",
        "outputId": "eb9b9b20-cc06-4108-b65b-2360c4348d50"
      },
      "execution_count": 11,
      "outputs": [
        {
          "output_type": "stream",
          "name": "stdout",
          "text": [
            "enetr a no6\n",
            "square of 6 is 36\n"
          ]
        }
      ]
    },
    {
      "cell_type": "code",
      "source": [
        "#without args , with return values\n",
        "\n",
        "def square():\n",
        "  x = int(input(\"enetr a no\"))\n",
        "  y = x**2\n",
        "  return y\n",
        "\n",
        "res = square()\n",
        "print(res)"
      ],
      "metadata": {
        "colab": {
          "base_uri": "https://localhost:8080/"
        },
        "id": "yeQplsX5d58J",
        "outputId": "a4840aa7-6bdc-4170-edfa-3b1cf01c6b34"
      },
      "execution_count": 12,
      "outputs": [
        {
          "output_type": "stream",
          "name": "stdout",
          "text": [
            "enetr a no4\n",
            "16\n"
          ]
        }
      ]
    },
    {
      "cell_type": "code",
      "source": [
        "# return statement\n",
        "\n",
        "\n",
        "def test(a,b,c,d):\n",
        "\n",
        "  return a,b,c,d\n",
        "\n",
        "x,y = test(10,20,30,40)[1:3]\n",
        "\n",
        "print(x,y)\n",
        "print(type(x))"
      ],
      "metadata": {
        "colab": {
          "base_uri": "https://localhost:8080/"
        },
        "id": "lMgOlMr3fJNG",
        "outputId": "0baa0164-f90c-4bbb-d021-b4962425f9ff"
      },
      "execution_count": 28,
      "outputs": [
        {
          "output_type": "stream",
          "name": "stdout",
          "text": [
            "20 30\n",
            "<class 'int'>\n"
          ]
        }
      ]
    },
    {
      "cell_type": "code",
      "source": [
        "# return\n",
        "\n",
        "def test1():\n",
        "  l1 = [10,20,30,40]\n",
        "  t1 = (60,70,80)\n",
        "  return l1,t1\n",
        "\n",
        "x = test1()\n",
        "print(x)\n",
        "print(type(x))\n",
        "\n"
      ],
      "metadata": {
        "colab": {
          "base_uri": "https://localhost:8080/"
        },
        "id": "zF54_Kotg7g8",
        "outputId": "69605a9d-cd9d-4e16-8242-80fa0396a06f"
      },
      "execution_count": 34,
      "outputs": [
        {
          "output_type": "stream",
          "name": "stdout",
          "text": [
            "([10, 20, 30, 40], (60, 70, 80))\n",
            "<class 'tuple'>\n"
          ]
        }
      ]
    },
    {
      "cell_type": "code",
      "source": [
        "def func1(a,b,c,d):\n",
        "  return a,b,c,d\n",
        "\n",
        " = func1(10,20,30,40)\n",
        "print(a,a)\n"
      ],
      "metadata": {
        "colab": {
          "base_uri": "https://localhost:8080/"
        },
        "id": "RczUuvbMkRci",
        "outputId": "1c323995-826d-4cb9-9d55-77631e314ecd"
      },
      "execution_count": 44,
      "outputs": [
        {
          "output_type": "stream",
          "name": "stdout",
          "text": [
            "20 20\n"
          ]
        }
      ]
    },
    {
      "cell_type": "code",
      "source": [
        "_ = 10\n",
        "print(_)"
      ],
      "metadata": {
        "colab": {
          "base_uri": "https://localhost:8080/"
        },
        "id": "0IKhUOXFmomZ",
        "outputId": "32321e57-b87b-451f-9b1d-14ce475413a4"
      },
      "execution_count": 45,
      "outputs": [
        {
          "output_type": "stream",
          "name": "stdout",
          "text": [
            "10\n"
          ]
        }
      ]
    }
  ]
}